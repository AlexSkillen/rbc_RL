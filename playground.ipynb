{
 "cells": [
  {
   "cell_type": "code",
   "execution_count": 9,
   "id": "f0c3d04c-17f0-4046-b820-506049ed806c",
   "metadata": {},
   "outputs": [],
   "source": [
    "import gymnasium as gym\n",
    "import torch\n",
    "import numpy as np\n",
    "import dedalus.public as d3\n",
    "import logging\n",
    "import h5py\n",
    "import matplotlib.pyplot as plt\n",
    "from stable_baselines3 import PPO\n",
    "from stable_baselines3.common.vec_env import SubprocVecEnv\n",
    "from stable_baselines3.common.env_util import make_vec_env\n",
    "from rbc_env import DedalusRBC_Env"
   ]
  },
  {
   "cell_type": "code",
   "execution_count": 10,
   "id": "e95639b5-62b9-4465-8d1e-b423acef9afa",
   "metadata": {},
   "outputs": [
    {
     "name": "stderr",
     "output_type": "stream",
     "text": [
      "/home/alexskillen/RB_DRL/.venv/lib/python3.10/site-packages/gymnasium/envs/registration.py:694: UserWarning: \u001b[33mWARN: Overriding environment rbc already in registry.\u001b[0m\n",
      "  logger.warn(f\"Overriding environment {new_spec.id} already in registry.\")\n"
     ]
    }
   ],
   "source": [
    "#env = make_vec_env(DedalusRBC_Env, n_envs=30, seed=0, vec_env_cls=SubprocVecEnv)\n",
    "gym.envs.register(id='rbc', entry_point=DedalusRBC_Env)\n",
    "env = gym.make('rbc', render_mode=\"human\")"
   ]
  },
  {
   "cell_type": "code",
   "execution_count": 11,
   "id": "e8d192a1-7875-4728-94b9-929dfded009d",
   "metadata": {},
   "outputs": [
    {
     "name": "stdout",
     "output_type": "stream",
     "text": [
      "Wrapping the env with a `Monitor` wrapper\n",
      "Wrapping the env in a DummyVecEnv.\n"
     ]
    }
   ],
   "source": [
    "model = PPO.load(\"logs/rl_model_60000_steps\", env=env)"
   ]
  },
  {
   "cell_type": "code",
   "execution_count": 5,
   "id": "30bfa36d-bfd5-42a3-a803-161eba1d4705",
   "metadata": {},
   "outputs": [],
   "source": [
    "from stable_baselines3.common.evaluation import evaluate_policy\n",
    "mean_reward, std_reward = evaluate_policy(model, model.get_env(), n_eval_episodes=3)"
   ]
  },
  {
   "cell_type": "code",
   "execution_count": 13,
   "id": "90031340-9382-4968-a7d0-9f5726b2215d",
   "metadata": {},
   "outputs": [],
   "source": [
    "vec_env = model.get_env()\n",
    "obs = vec_env.reset()\n",
    "for i in range(248):\n",
    "    action, _ = model.predict(obs, deterministic=False)\n",
    "    obs, _, _, _ = vec_env.step(action)\n",
    "    T = env.unwrapped.problem.variables[1]['g']\n",
    "    fig, ax = plt.subplots()\n",
    "    c = ax.imshow(np.transpose(T), aspect=1/np.pi, origin=\"lower\", vmin=0., vmax=1.4)\n",
    "    fig.colorbar(c)\n",
    "    plt.title('$Nu=$'+str(np.round(env.unwrapped.fp.properties['Nu']['g'].flatten()[-1], 2)))\n",
    "    plt.savefig('figs/'+str(i)+'.png')\n",
    "    plt.close()"
   ]
  },
  {
   "cell_type": "code",
   "execution_count": 33,
   "id": "d7a9e11d-62b9-4f4c-93f2-3a5acfa3bda2",
   "metadata": {},
   "outputs": [],
   "source": [
    "env.unwrapped.solver.stop_sim_time *= 2\n",
    "for i in range(248):\n",
    "    action, _ = model.predict(obs)\n",
    "    obs, _, _, _ = vec_env.step(action*0)\n",
    "    T = env.unwrapped.problem.variables[1]['g']\n",
    "    fig, ax = plt.subplots()\n",
    "    c = ax.imshow(np.transpose(T), aspect=1/np.pi, origin=\"lower\", vmin=0., vmax=1.4)\n",
    "    fig.colorbar(c)\n",
    "    plt.title('$Nu=$'+str(np.round(env.unwrapped.fp.properties['Nu']['g'].flatten()[-1], 2)))\n",
    "    plt.savefig('figs/'+str(248+i)+'.png')\n",
    "    plt.close()"
   ]
  },
  {
   "cell_type": "code",
   "execution_count": 12,
   "id": "9c224af2-d2e0-4497-a7f1-c11a3a887f70",
   "metadata": {},
   "outputs": [
    {
     "data": {
      "text/plain": [
       "(array([[ 0.581022  ,  1.        , -0.11605576, -0.89824307, -0.51246285,\n",
       "          0.01351704, -0.29225165, -0.47820076, -1.        , -0.35339993]],\n",
       "       dtype=float32),\n",
       " None)"
      ]
     },
     "execution_count": 12,
     "metadata": {},
     "output_type": "execute_result"
    }
   ],
   "source": [
    "model.predict(obs)"
   ]
  },
  {
   "cell_type": "code",
   "execution_count": 16,
   "id": "9c087404-cbf2-4cd5-887c-74b9ff3481fe",
   "metadata": {},
   "outputs": [
    {
     "data": {
      "text/plain": [
       "0.924336564540863"
      ]
     },
     "execution_count": 16,
     "metadata": {},
     "output_type": "execute_result"
    }
   ],
   "source": [
    "np.average(env.unwrapped.g['g'].flatten())"
   ]
  },
  {
   "cell_type": "code",
   "execution_count": 60,
   "id": "becfa0bd-e412-4008-83a7-b6d2bd7d9bcf",
   "metadata": {},
   "outputs": [],
   "source": [
    "def setBC(self, action):\n",
    "    #lower BC\n",
    "    self.act = action\n",
    "    Tp = action - np.mean(action)\n",
    "\n",
    "    Tp /= max(1., np.abs(Tp).max()/0.75)\n",
    "\n",
    "    Tp = np.repeat(Tp, 3)\n",
    "    self.Tp = Tp\n",
    "    #copy last action due to periodicity\n",
    "    Tp = np.append(Tp, Tp[0])\n",
    "    xp=np.linspace(0, self.sim_metadata['Lx'], len(Tp))\n",
    "    self.Tp4 = Tp\n",
    "    T = np.interp(self.x, xp, Tp)\n",
    "\n",
    "    self.g['g'] = T\n",
    "    self.g['g'] += 1.0"
   ]
  },
  {
   "cell_type": "code",
   "execution_count": 18,
   "id": "86d14cca-adaf-4f26-934e-10fe1aff0f68",
   "metadata": {},
   "outputs": [
    {
     "data": {
      "text/plain": [
       "(array([0.6372836 , 0.67803115, 0.72901434, 0.78587717, 0.84508824,\n",
       "        0.895761  , 0.90977174, 0.8751388 , 0.817765  , 0.75878936,\n",
       "        0.70408314, 0.65743613, 0.62384784, 0.60831445, 0.6136576 ,\n",
       "        0.6388865 , 0.679814  , 0.73122096, 0.78868574, 0.84836066,\n",
       "        0.89793885, 0.90848213, 0.87113047, 0.81327957, 0.75461996,\n",
       "        0.7003652 , 0.6542511 , 0.62123996, 0.60624003, 0.6119504 ,\n",
       "        0.4050605 , 0.45169804, 0.5147871 , 0.59739274, 0.6991035 ,\n",
       "        0.7979048 , 0.82710856, 0.75673187, 0.6506971 , 0.55683434,\n",
       "        0.4836747 , 0.42884716, 0.3903771 , 0.37186638, 0.37826103,\n",
       "        0.4075861 , 0.45444798, 0.518331  , 0.6023878 , 0.705592  ,\n",
       "        0.80262995, 0.82440877, 0.74865294, 0.64253974, 0.5500985 ,\n",
       "        0.4781895 , 0.4242234 , 0.38642228, 0.3685791 , 0.3755214 ,\n",
       "        0.36976212, 0.41169652, 0.45518366, 0.5187968 , 0.6184125 ,\n",
       "        0.7310128 , 0.76626414, 0.6833503 , 0.5692878 , 0.4868052 ,\n",
       "        0.4351724 , 0.39355686, 0.35127196, 0.32406214, 0.3340054 ,\n",
       "        0.37208402, 0.41421342, 0.4585333 , 0.5241337 , 0.62620485,\n",
       "        0.73697656, 0.7628198 , 0.67348105, 0.5602985 , 0.48033684,\n",
       "        0.43012425, 0.38885212, 0.3468485 , 0.32052243, 0.33138195,\n",
       "        0.38733107, 0.44252548, 0.47790942, 0.52056736, 0.59788966,\n",
       "        0.6934486 , 0.7241169 , 0.6531939 , 0.55940616, 0.49978313,\n",
       "        0.46416685, 0.42021856, 0.35491028, 0.3056814 , 0.324279  ,\n",
       "        0.38923585, 0.44475678, 0.4808486 , 0.52537686, 0.60511297,\n",
       "        0.6988543 , 0.72079873, 0.64397293, 0.5512598 , 0.49414387,\n",
       "        0.4594375 , 0.4151104 , 0.34980667, 0.30205497, 0.32216448,\n",
       "        0.40005183, 0.47732726, 0.5200397 , 0.5554079 , 0.6106539 ,\n",
       "        0.67620105, 0.6968801 , 0.64945215, 0.58429277, 0.53993684,\n",
       "        0.5044916 , 0.44560036, 0.35176465, 0.2784943 , 0.30657724,\n",
       "        0.40184066, 0.4797139 , 0.5229308 , 0.5595186 , 0.6161717 ,\n",
       "        0.67989326, 0.6942326 , 0.6423188 , 0.57752377, 0.5347018 ,\n",
       "        0.49945357, 0.4397456 , 0.3459576 , 0.27488887, 0.30494806,\n",
       "        0.3796808 , 0.47917217, 0.5428296 , 0.5863655 , 0.62840414,\n",
       "        0.6670764 , 0.6783434 , 0.6523119 , 0.61041653, 0.568923  ,\n",
       "        0.51775604, 0.43594068, 0.32160375, 0.2361374 , 0.26889887,\n",
       "        0.38164857, 0.48207358, 0.54601544, 0.58980083, 0.6319063 ,\n",
       "        0.66889954, 0.6764429 , 0.6475067 , 0.60500556, 0.56358534,\n",
       "        0.51187694, 0.4293366 , 0.31557295, 0.23283416, 0.2675894 ,\n",
       "        0.29941058, 0.40090376, 0.48348   , 0.54663414, 0.59340227,\n",
       "        0.62314075, 0.6303001 , 0.61258286, 0.574712  , 0.5203555 ,\n",
       "        0.4476045 , 0.3539155 , 0.24724007, 0.17472221, 0.20216978,\n",
       "        0.30140832, 0.4041092 , 0.48710844, 0.5499814 , 0.5958799 ,\n",
       "        0.62397724, 0.6288642 , 0.6090672 , 0.5698128 , 0.51454914,\n",
       "        0.44123274, 0.3476079 , 0.24215302, 0.17216533, 0.20107456,\n",
       "        0.15414712, 0.2131951 , 0.26999325, 0.32099214, 0.36181682,\n",
       "        0.38725436, 0.3930427 , 0.37803653, 0.34489745, 0.29852554,\n",
       "        0.24389017, 0.18476997, 0.12687442, 0.09116834, 0.10442029,\n",
       "        0.15538275, 0.21526243, 0.27256554, 0.3235383 , 0.36371222,\n",
       "        0.38790476, 0.39209825, 0.37556025, 0.3413121 , 0.29440486,\n",
       "        0.23978491, 0.18113904, 0.12419272, 0.08982199, 0.10372359],\n",
       "       dtype=float32),\n",
       " {})"
      ]
     },
     "execution_count": 18,
     "metadata": {},
     "output_type": "execute_result"
    }
   ],
   "source": [
    "r=DedalusRBC_Env()\n",
    "r.reset()"
   ]
  },
  {
   "cell_type": "code",
   "execution_count": 71,
   "id": "52860d98-9865-448a-aac4-5e339e3ecc8b",
   "metadata": {},
   "outputs": [
    {
     "data": {
      "text/plain": [
       "array([[1.59974205],\n",
       "       [1.59974205],\n",
       "       [1.59974205],\n",
       "       [1.59974205],\n",
       "       [1.59974205],\n",
       "       [1.59974205],\n",
       "       [1.59974205],\n",
       "       [1.5797252 ],\n",
       "       [1.51967465],\n",
       "       [1.45962409],\n",
       "       [1.39957353],\n",
       "       [1.39957353],\n",
       "       [1.39957353],\n",
       "       [1.39957353],\n",
       "       [1.39957353],\n",
       "       [1.39957353],\n",
       "       [1.39957353],\n",
       "       [1.30601215],\n",
       "       [1.025328  ],\n",
       "       [0.74464385],\n",
       "       [0.46395969],\n",
       "       [0.46395969],\n",
       "       [0.46395969],\n",
       "       [0.46395969],\n",
       "       [0.46395969],\n",
       "       [0.46395969],\n",
       "       [0.46395969],\n",
       "       [0.58790336],\n",
       "       [0.95973434],\n",
       "       [1.33156533],\n",
       "       [1.70339632],\n",
       "       [1.70339632],\n",
       "       [1.70339632],\n",
       "       [1.70339632],\n",
       "       [1.70339632],\n",
       "       [1.70339632],\n",
       "       [1.70339632],\n",
       "       [1.70805669],\n",
       "       [1.72203779],\n",
       "       [1.7360189 ],\n",
       "       [1.75      ],\n",
       "       [1.75      ],\n",
       "       [1.75      ],\n",
       "       [1.75      ],\n",
       "       [1.75      ],\n",
       "       [1.75      ],\n",
       "       [1.75      ],\n",
       "       [1.6448028 ],\n",
       "       [1.32921119],\n",
       "       [1.01361958],\n",
       "       [0.69802797],\n",
       "       [0.69802797],\n",
       "       [0.69802797],\n",
       "       [0.69802797],\n",
       "       [0.69802797],\n",
       "       [0.69802797],\n",
       "       [0.69802797],\n",
       "       [0.68685209],\n",
       "       [0.65332445],\n",
       "       [0.61979681],\n",
       "       [0.58626917],\n",
       "       [0.58626917],\n",
       "       [0.58626917],\n",
       "       [0.58626917],\n",
       "       [0.58626917],\n",
       "       [0.58626917],\n",
       "       [0.58626917],\n",
       "       [0.5833654 ],\n",
       "       [0.57465411],\n",
       "       [0.56594281],\n",
       "       [0.55723152],\n",
       "       [0.55723152],\n",
       "       [0.55723152],\n",
       "       [0.55723152],\n",
       "       [0.55723152],\n",
       "       [0.55723152],\n",
       "       [0.55723152],\n",
       "       [0.5540763 ],\n",
       "       [0.54461066],\n",
       "       [0.53514502],\n",
       "       [0.52567938],\n",
       "       [0.52567938],\n",
       "       [0.52567938],\n",
       "       [0.52567938],\n",
       "       [0.52567938],\n",
       "       [0.52567938],\n",
       "       [0.52567938],\n",
       "       [0.54472349],\n",
       "       [0.60185582],\n",
       "       [0.65898815],\n",
       "       [0.71612048],\n",
       "       [0.71612048],\n",
       "       [0.71612048],\n",
       "       [0.71612048],\n",
       "       [0.71612048],\n",
       "       [0.71612048],\n",
       "       [0.71612048],\n",
       "       [0.80448264],\n",
       "       [1.06956911],\n",
       "       [1.33465558]])"
      ]
     },
     "execution_count": 71,
     "metadata": {},
     "output_type": "execute_result"
    }
   ],
   "source": [
    "setBC(r,r.action_space.sample())\n",
    "r.g['g']"
   ]
  },
  {
   "cell_type": "code",
   "execution_count": 70,
   "id": "34542dfc-c32f-4be4-aa73-bdddba87b2de",
   "metadata": {},
   "outputs": [
    {
     "data": {
      "text/plain": [
       "1.000000011920929"
      ]
     },
     "execution_count": 70,
     "metadata": {},
     "output_type": "execute_result"
    }
   ],
   "source": [
    "np.average(r.g['g'].flatten())"
   ]
  },
  {
   "cell_type": "code",
   "execution_count": 58,
   "id": "d04efdd6-8c3f-4704-994a-012f22ec6f1e",
   "metadata": {},
   "outputs": [
    {
     "data": {
      "text/plain": [
       "array([-0.5427242 ,  0.4604698 ,  0.35989147, -0.44864205, -0.58209145,\n",
       "        0.75      ,  0.12681453,  0.75      , -0.75      , -0.48647383],\n",
       "      dtype=float32)"
      ]
     },
     "execution_count": 58,
     "metadata": {},
     "output_type": "execute_result"
    }
   ],
   "source": [
    "r.Tp2"
   ]
  },
  {
   "cell_type": "code",
   "execution_count": 59,
   "id": "9ea3becb-316f-4cf6-8cf5-4dd3e9762fb7",
   "metadata": {},
   "outputs": [
    {
     "data": {
      "text/plain": [
       "array([-0.5427242 ,  0.4604698 ,  0.35989147, -0.44864205, -0.58209145,\n",
       "        1.0501978 ,  0.12681453,  0.9067396 , -0.84418166, -0.48647383],\n",
       "      dtype=float32)"
      ]
     },
     "execution_count": 59,
     "metadata": {},
     "output_type": "execute_result"
    }
   ],
   "source": [
    "r.act - np.mean(r.act)"
   ]
  },
  {
   "cell_type": "code",
   "execution_count": null,
   "id": "47038800-bb77-487b-909a-8a110a73f61e",
   "metadata": {},
   "outputs": [],
   "source": []
  }
 ],
 "metadata": {
  "kernelspec": {
   "display_name": "Python 3 (ipykernel)",
   "language": "python",
   "name": "python3"
  },
  "language_info": {
   "codemirror_mode": {
    "name": "ipython",
    "version": 3
   },
   "file_extension": ".py",
   "mimetype": "text/x-python",
   "name": "python",
   "nbconvert_exporter": "python",
   "pygments_lexer": "ipython3",
   "version": "3.10.12"
  }
 },
 "nbformat": 4,
 "nbformat_minor": 5
}
