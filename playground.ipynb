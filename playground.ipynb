{
 "cells": [
  {
   "cell_type": "code",
   "execution_count": 13,
   "id": "f0c3d04c-17f0-4046-b820-506049ed806c",
   "metadata": {},
   "outputs": [],
   "source": [
    "import gymnasium as gym\n",
    "import torch\n",
    "import numpy as np\n",
    "import dedalus.public as d3\n",
    "import logging\n",
    "import h5py\n",
    "import matplotlib.pyplot as plt\n",
    "from stable_baselines3 import PPO\n",
    "from stable_baselines3.common.vec_env import SubprocVecEnv\n",
    "from stable_baselines3.common.env_util import make_vec_env\n",
    "from rbc_env import DedalusRBC_Env"
   ]
  },
  {
   "cell_type": "code",
   "execution_count": 14,
   "id": "e95639b5-62b9-4465-8d1e-b423acef9afa",
   "metadata": {},
   "outputs": [
    {
     "name": "stderr",
     "output_type": "stream",
     "text": [
      "/home/alexskillen/RB_DRL/.venv/lib/python3.10/site-packages/gymnasium/envs/registration.py:694: UserWarning: \u001b[33mWARN: Overriding environment rbc already in registry.\u001b[0m\n",
      "  logger.warn(f\"Overriding environment {new_spec.id} already in registry.\")\n"
     ]
    }
   ],
   "source": [
    "#env = make_vec_env(DedalusRBC_Env, n_envs=30, seed=0, vec_env_cls=SubprocVecEnv)\n",
    "gym.envs.register(id='rbc', entry_point=DedalusRBC_Env)\n",
    "env = gym.make('rbc', render_mode=\"human\")"
   ]
  },
  {
   "cell_type": "code",
   "execution_count": 15,
   "id": "e8d192a1-7875-4728-94b9-929dfded009d",
   "metadata": {},
   "outputs": [
    {
     "name": "stdout",
     "output_type": "stream",
     "text": [
      "Wrapping the env with a `Monitor` wrapper\n",
      "Wrapping the env in a DummyVecEnv.\n"
     ]
    }
   ],
   "source": [
    "model = PPO.load(\"logs/rl_model_450000_steps\", env=env)"
   ]
  },
  {
   "cell_type": "code",
   "execution_count": 5,
   "id": "30bfa36d-bfd5-42a3-a803-161eba1d4705",
   "metadata": {},
   "outputs": [],
   "source": [
    "from stable_baselines3.common.evaluation import evaluate_policy\n",
    "mean_reward, std_reward = evaluate_policy(model, model.get_env(), n_eval_episodes=3)"
   ]
  },
  {
   "cell_type": "code",
   "execution_count": 16,
   "id": "90031340-9382-4968-a7d0-9f5726b2215d",
   "metadata": {},
   "outputs": [],
   "source": [
    "vec_env = model.get_env()\n",
    "obs = vec_env.reset()\n",
    "for i in range(256):\n",
    "    action, _ = model.predict(obs, deterministic=True)\n",
    "    obs, _, _, _ = vec_env.step(action)\n",
    "    T = env.unwrapped.problem.variables[1]['g']\n",
    "    fig, ax = plt.subplots()\n",
    "    c = ax.imshow(np.transpose(T), aspect=1/np.pi, origin=\"lower\", vmin=0., vmax=1.4)\n",
    "    fig.colorbar(c)\n",
    "    plt.title('$Nu=$'+str(np.round(env.unwrapped.fp.properties['Nu']['g'].flatten()[-1], 2)))\n",
    "    plt.savefig('figs/'+str(i)+'.png')\n",
    "    plt.close()"
   ]
  },
  {
   "cell_type": "code",
   "execution_count": 17,
   "id": "d7a9e11d-62b9-4f4c-93f2-3a5acfa3bda2",
   "metadata": {},
   "outputs": [],
   "source": [
    "env.unwrapped.solver.stop_sim_time *= 2\n",
    "for i in range(256):\n",
    "    action, _ = model.predict(obs)\n",
    "    obs, _, _, _ = vec_env.step(action*0)\n",
    "    T = env.unwrapped.problem.variables[1]['g']\n",
    "    fig, ax = plt.subplots()\n",
    "    c = ax.imshow(np.transpose(T), aspect=1/np.pi, origin=\"lower\", vmin=0., vmax=1.4)\n",
    "    fig.colorbar(c)\n",
    "    plt.title('$Nu=$'+str(np.round(env.unwrapped.fp.properties['Nu']['g'].flatten()[-1], 2)))\n",
    "    plt.savefig('figs/'+str(248+i)+'.png')\n",
    "    plt.close()"
   ]
  },
  {
   "cell_type": "code",
   "execution_count": 11,
   "id": "584538be-b770-4130-8599-08d1cb3f2054",
   "metadata": {},
   "outputs": [
    {
     "data": {
      "text/plain": [
       "(array([[-1.        ,  1.        ,  0.06012079, -1.        , -1.        ,\n",
       "         -1.        , -0.9429523 , -0.11217751, -1.        , -0.22566158]],\n",
       "       dtype=float32),\n",
       " None)"
      ]
     },
     "execution_count": 11,
     "metadata": {},
     "output_type": "execute_result"
    }
   ],
   "source": [
    "model.predict(obs)"
   ]
  },
  {
   "cell_type": "code",
   "execution_count": null,
   "id": "f0737f83-744c-467b-a58e-178df12203d6",
   "metadata": {},
   "outputs": [],
   "source": []
  }
 ],
 "metadata": {
  "kernelspec": {
   "display_name": "Python 3 (ipykernel)",
   "language": "python",
   "name": "python3"
  },
  "language_info": {
   "codemirror_mode": {
    "name": "ipython",
    "version": 3
   },
   "file_extension": ".py",
   "mimetype": "text/x-python",
   "name": "python",
   "nbconvert_exporter": "python",
   "pygments_lexer": "ipython3",
   "version": "3.10.12"
  }
 },
 "nbformat": 4,
 "nbformat_minor": 5
}
