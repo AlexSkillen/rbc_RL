{
 "cells": [
  {
   "cell_type": "code",
   "execution_count": 1,
   "id": "f0c3d04c-17f0-4046-b820-506049ed806c",
   "metadata": {},
   "outputs": [],
   "source": [
    "import gymnasium as gym\n",
    "import numpy as np\n",
    "import dedalus.public as d3\n",
    "import matplotlib.pyplot as plt\n",
    "from stable_baselines3 import PPO\n",
    "from stable_baselines3.common.vec_env import SubprocVecEnv\n",
    "from stable_baselines3.common.env_util import make_vec_env\n",
    "from rbc_env import DedalusRBC_Env"
   ]
  },
  {
   "cell_type": "code",
   "execution_count": 2,
   "id": "e95639b5-62b9-4465-8d1e-b423acef9afa",
   "metadata": {},
   "outputs": [],
   "source": [
    "#env = make_vec_env(DedalusRBC_Env, n_envs=30, seed=0, vec_env_cls=SubprocVecEnv)\n",
    "gym.envs.register(id='rbc', entry_point=DedalusRBC_Env)\n",
    "env = gym.make('rbc', render_mode=\"human\")"
   ]
  },
  {
   "cell_type": "code",
   "execution_count": 3,
   "id": "e8d192a1-7875-4728-94b9-929dfded009d",
   "metadata": {},
   "outputs": [
    {
     "name": "stdout",
     "output_type": "stream",
     "text": [
      "Wrapping the env with a `Monitor` wrapper\n",
      "Wrapping the env in a DummyVecEnv.\n"
     ]
    }
   ],
   "source": [
    "model = PPO.load(\"trained_models/Ra1e4_Pr0p7_350Eps\", env=env)"
   ]
  },
  {
   "cell_type": "code",
   "execution_count": 5,
   "id": "30bfa36d-bfd5-42a3-a803-161eba1d4705",
   "metadata": {},
   "outputs": [],
   "source": [
    "from stable_baselines3.common.evaluation import evaluate_policy\n",
    "mean_reward, std_reward = evaluate_policy(model, model.get_env(), n_eval_episodes=3)"
   ]
  },
  {
   "cell_type": "code",
   "execution_count": 4,
   "id": "90031340-9382-4968-a7d0-9f5726b2215d",
   "metadata": {},
   "outputs": [],
   "source": [
    "vec_env = model.get_env()\n",
    "obs = vec_env.reset()\n",
    "for i in range(256):\n",
    "    action, _ = model.predict(obs, deterministic=True)\n",
    "    obs, _, _, _ = vec_env.step(action)\n",
    "    T = env.unwrapped.problem.variables[1]['g']\n",
    "    fig, ax = plt.subplots()\n",
    "    c = ax.imshow(np.transpose(T), aspect=1/np.pi, origin=\"lower\", vmin=0., vmax=1.4)\n",
    "    fig.colorbar(c)\n",
    "    plt.title('$Nu=$'+str(np.round(env.unwrapped.fp.properties['Nu']['g'].flatten()[-1], 2)))\n",
    "    plt.savefig('figs/'+str(i)+'.png')\n",
    "    plt.close()"
   ]
  },
  {
   "cell_type": "code",
   "execution_count": 5,
   "id": "d7a9e11d-62b9-4f4c-93f2-3a5acfa3bda2",
   "metadata": {},
   "outputs": [],
   "source": [
    "env.unwrapped.solver.stop_sim_time *= 2\n",
    "for i in range(256):\n",
    "    action, _ = model.predict(obs)\n",
    "    obs, _, _, _ = vec_env.step(action*0)\n",
    "    T = env.unwrapped.problem.variables[1]['g']\n",
    "    fig, ax = plt.subplots()\n",
    "    c = ax.imshow(np.transpose(T), aspect=1/np.pi, origin=\"lower\", vmin=0., vmax=1.4)\n",
    "    fig.colorbar(c)\n",
    "    plt.title('$Nu=$'+str(np.round(env.unwrapped.fp.properties['Nu']['g'].flatten()[-1], 2)))\n",
    "    plt.savefig('figs/'+str(248+i)+'.png')\n",
    "    plt.close()"
   ]
  },
  {
   "cell_type": "code",
   "execution_count": 11,
   "id": "584538be-b770-4130-8599-08d1cb3f2054",
   "metadata": {},
   "outputs": [
    {
     "data": {
      "text/plain": [
       "(array([[-1.        ,  1.        ,  0.06012079, -1.        , -1.        ,\n",
       "         -1.        , -0.9429523 , -0.11217751, -1.        , -0.22566158]],\n",
       "       dtype=float32),\n",
       " None)"
      ]
     },
     "execution_count": 11,
     "metadata": {},
     "output_type": "execute_result"
    }
   ],
   "source": [
    "model.predict(obs)"
   ]
  },
  {
   "cell_type": "code",
   "execution_count": 6,
   "id": "f0737f83-744c-467b-a58e-178df12203d6",
   "metadata": {},
   "outputs": [
    {
     "name": "stdout",
     "output_type": "stream",
     "text": [
      "Object `d3.FourierBase` not found.\n"
     ]
    }
   ],
   "source": []
  },
  {
   "cell_type": "code",
   "execution_count": 3,
   "id": "47390384-f6fd-4f6c-a96c-882b10832a4b",
   "metadata": {},
   "outputs": [],
   "source": [
    "r = DedalusRBC_Env()"
   ]
  },
  {
   "cell_type": "code",
   "execution_count": 4,
   "id": "d983beaf-bca4-4f82-8bc4-6df663b07284",
   "metadata": {},
   "outputs": [
    {
     "data": {
      "text/plain": [
       "(array([0.9052548 , 0.90328234, 0.8580965 , 0.7989504 , 0.7409502 ,\n",
       "        0.68826556, 0.64503413, 0.616419  , 0.6069842 , 0.6184812 ,\n",
       "        0.64878565, 0.6931698 , 0.74651515, 0.8048199 , 0.8635529 ,\n",
       "        0.9058098 , 0.902786  , 0.8571284 , 0.7980633 , 0.74023557,\n",
       "        0.68768525, 0.64452904, 0.61591655, 0.6064106 , 0.61778176,\n",
       "        0.6479356 , 0.6921699 , 0.7453797 , 0.8035736 , 0.86235666,\n",
       "        0.8176508 , 0.81358117, 0.72373044, 0.61882514, 0.5313086 ,\n",
       "        0.4641756 , 0.4143504 , 0.3813029 , 0.36997792, 0.38376197,\n",
       "        0.41865143, 0.47006837, 0.53905547, 0.62854797, 0.7341363 ,\n",
       "        0.818824  , 0.8124934 , 0.7217811 , 0.6172203 , 0.5301494 ,\n",
       "        0.46328774, 0.4135674 , 0.38050175, 0.3690643 , 0.38268754,\n",
       "        0.41740626, 0.46860272, 0.53725535, 0.6263263 , 0.73176074,\n",
       "        0.75474507, 0.74993515, 0.64583516, 0.5385519 , 0.4673676 ,\n",
       "        0.42113188, 0.3794391 , 0.3390123 , 0.32164195, 0.34254378,\n",
       "        0.3838064 , 0.42535254, 0.4730174 , 0.5475946 , 0.6574563 ,\n",
       "        0.7562332 , 0.7485585 , 0.64346534, 0.5367998 , 0.46625727,\n",
       "        0.4203162 , 0.3787034 , 0.33823863, 0.32068002, 0.3413501 ,\n",
       "        0.38251713, 0.42399034, 0.4713193 , 0.54520446, 0.6545912 ,\n",
       "        0.71396565, 0.7099108 , 0.6211816 , 0.53556216, 0.48645392,\n",
       "        0.4517462 , 0.40093786, 0.3343019 , 0.302195  , 0.34057674,\n",
       "        0.40725216, 0.45566398, 0.4902159 , 0.54235065, 0.63097024,\n",
       "        0.7153701 , 0.70867014, 0.6189846 , 0.5339737 , 0.48547927,\n",
       "        0.4510106 , 0.40028483, 0.33365214, 0.30125502, 0.33923295,\n",
       "        0.40583804, 0.4543576 , 0.4887317 , 0.540203  , 0.6283019 ,\n",
       "        0.68986714, 0.6872459 , 0.62714094, 0.5667854 , 0.52824473,\n",
       "        0.4891776 , 0.41889066, 0.32203498, 0.27389187, 0.33128095,\n",
       "        0.42779377, 0.49418992, 0.5316403 , 0.5717404 , 0.63394177,\n",
       "        0.6909395 , 0.6864109 , 0.6254858 , 0.56545526, 0.52731043,\n",
       "        0.48838952, 0.41822442, 0.32149005, 0.27300444, 0.32978866,\n",
       "        0.4261735 , 0.49277082, 0.5302264 , 0.5699276 , 0.63186353,\n",
       "        0.6743069 , 0.67294693, 0.63875556, 0.5963906 , 0.5540466 ,\n",
       "        0.4957461 , 0.4026266 , 0.28711522, 0.23111337, 0.29787156,\n",
       "        0.41364264, 0.50297284, 0.55867434, 0.600559  , 0.64295304,\n",
       "        0.6750157 , 0.6725475 , 0.63773227, 0.5953295 , 0.5530567 ,\n",
       "        0.49479663, 0.4018725 , 0.2866326 , 0.23033118, 0.29635507,\n",
       "        0.4118392 , 0.50130904, 0.55717635, 0.59905255, 0.64153564,\n",
       "        0.62762433, 0.62674075, 0.6019582 , 0.55881053, 0.49922195,\n",
       "        0.42035082, 0.3211655 , 0.21760285, 0.17063004, 0.22677061,\n",
       "        0.33178717, 0.42914888, 0.5059635 , 0.56384873, 0.60540575,\n",
       "        0.62812084, 0.6265701 , 0.6012658 , 0.5578237 , 0.4981106 ,\n",
       "        0.41929874, 0.3204072 , 0.21718602, 0.17003052, 0.2255129 ,\n",
       "        0.3301022 , 0.4273745 , 0.5043089 , 0.5624278 , 0.60434544,\n",
       "        0.39099154, 0.39021853, 0.36910334, 0.33128655, 0.28192547,\n",
       "        0.22569484, 0.16617313, 0.11195257, 0.08917777, 0.11650721,\n",
       "        0.17210595, 0.23147285, 0.28718027, 0.33563283, 0.3720504 ,\n",
       "        0.3913255 , 0.39008513, 0.36858067, 0.3305361 , 0.28112838,\n",
       "        0.22501062, 0.16571411, 0.11169957, 0.0888541 , 0.11584733,\n",
       "        0.17115118, 0.23035134, 0.28602016, 0.33458957, 0.37129298],\n",
       "       dtype=float32),\n",
       " {})"
      ]
     },
     "execution_count": 4,
     "metadata": {},
     "output_type": "execute_result"
    }
   ],
   "source": [
    "r.reset()"
   ]
  },
  {
   "cell_type": "code",
   "execution_count": 5,
   "id": "d6c60356-27d9-4033-a626-49c6a878337e",
   "metadata": {},
   "outputs": [
    {
     "ename": "TypeError",
     "evalue": "Distributor.local_grid() missing 1 required positional argument: 'basis'",
     "output_type": "error",
     "traceback": [
      "\u001b[0;31m---------------------------------------------------------------------------\u001b[0m",
      "\u001b[0;31mTypeError\u001b[0m                                 Traceback (most recent call last)",
      "Cell \u001b[0;32mIn[5], line 1\u001b[0m\n\u001b[0;32m----> 1\u001b[0m \u001b[43mr\u001b[49m\u001b[38;5;241;43m.\u001b[39;49m\u001b[43msolver\u001b[49m\u001b[38;5;241;43m.\u001b[39;49m\u001b[43mdist\u001b[49m\u001b[38;5;241;43m.\u001b[39;49m\u001b[43mlocal_grid\u001b[49m\u001b[43m(\u001b[49m\u001b[43m)\u001b[49m\n",
      "\u001b[0;31mTypeError\u001b[0m: Distributor.local_grid() missing 1 required positional argument: 'basis'"
     ]
    }
   ],
   "source": [
    "r.solver.dist.local_grid()"
   ]
  },
  {
   "cell_type": "code",
   "execution_count": null,
   "id": "09c12dfb-1567-4c58-8227-fc38f7281a81",
   "metadata": {},
   "outputs": [],
   "source": []
  }
 ],
 "metadata": {
  "kernelspec": {
   "display_name": "Python 3 (ipykernel)",
   "language": "python",
   "name": "python3"
  },
  "language_info": {
   "codemirror_mode": {
    "name": "ipython",
    "version": 3
   },
   "file_extension": ".py",
   "mimetype": "text/x-python",
   "name": "python",
   "nbconvert_exporter": "python",
   "pygments_lexer": "ipython3",
   "version": "3.10.12"
  }
 },
 "nbformat": 4,
 "nbformat_minor": 5
}
