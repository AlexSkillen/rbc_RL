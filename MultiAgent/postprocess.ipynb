{
 "cells": [
  {
   "cell_type": "code",
   "execution_count": 1,
   "id": "777ad0c3-2d07-466c-9a38-72a2fcbdc775",
   "metadata": {
    "scrolled": true
   },
   "outputs": [],
   "source": [
    "import ray\n",
    "from ray.rllib.algorithms.ppo import PPO\n",
    "import os\n",
    "from ray import tune\n",
    "from ray.rllib.algorithms.ppo import PPOConfig\n",
    "from ray.rllib.env.wrappers.pettingzoo_env import ParallelPettingZooEnv\n",
    "from ray.rllib.models import ModelCatalog\n",
    "from ray.rllib.models.torch.torch_modelv2 import TorchModelV2\n",
    "from ray.tune.registry import register_env\n",
    "import numpy as np\n",
    "import matplotlib.pyplot as plt\n",
    "import pickle\n",
    "from rbc_maenv import DedalusRBC_Env"
   ]
  },
  {
   "cell_type": "code",
   "execution_count": 2,
   "id": "4f071f56-172f-4608-a958-c20a2fe02112",
   "metadata": {},
   "outputs": [],
   "source": [
    "os.environ['PYTHONPATH'] = os.path.abspath('.')"
   ]
  },
  {
   "cell_type": "code",
   "execution_count": 3,
   "id": "b4437ad6-d090-4f3a-9239-27932225cfcd",
   "metadata": {},
   "outputs": [],
   "source": [
    "def env_creator():\n",
    "    env = DedalusRBC_Env(nagents=10)\n",
    "    return env"
   ]
  },
  {
   "cell_type": "code",
   "execution_count": 4,
   "id": "1fac2e36-3fc8-46b7-95ed-733573e38b98",
   "metadata": {},
   "outputs": [
    {
     "name": "stderr",
     "output_type": "stream",
     "text": [
      "2024-04-08 21:26:15,634\tINFO worker.py:1752 -- Started a local Ray instance.\n"
     ]
    }
   ],
   "source": [
    "ray.init()\n",
    "env_name = \"ma_rbc\"\n",
    "register_env(env_name, lambda config: ParallelPettingZooEnv(env_creator()))  "
   ]
  },
  {
   "cell_type": "code",
   "execution_count": 7,
   "id": "b320438f-1165-4b69-b2e5-b9b14b839ee0",
   "metadata": {},
   "outputs": [],
   "source": [
    "checkpoint_path = os.path.expanduser('~/ray_results/PPO/PPO_ma_rbc_1d6be_00000_0_2024-04-06_13-20-54/checkpoint_000000')\n",
    "base_dir = os.path.dirname(checkpoint_path)\n",
    "config_path = os.path.join(base_dir, 'params.pkl')\n",
    "with open(config_path, 'rb') as f:\n",
    "    config = pickle.load(f)\n",
    "config['num_workers'] = 1"
   ]
  },
  {
   "cell_type": "code",
   "execution_count": 13,
   "id": "dced1a5d-3779-45de-b915-8774e1d3bcfd",
   "metadata": {
    "scrolled": true
   },
   "outputs": [
    {
     "name": "stderr",
     "output_type": "stream",
     "text": [
      "/home/alexskillen/RB_DRL/.venv/lib/python3.10/site-packages/ray/rllib/algorithms/algorithm.py:500: RayDeprecationWarning: This API is deprecated and may be removed in future Ray releases. You could suppress this warning by setting env variable PYTHONWARNINGS=\"ignore::DeprecationWarning\"\n",
      "`UnifiedLogger` will be removed in Ray 2.7.\n",
      "  return UnifiedLogger(config, logdir, loggers=None)\n",
      "/home/alexskillen/RB_DRL/.venv/lib/python3.10/site-packages/ray/tune/logger/unified.py:53: RayDeprecationWarning: This API is deprecated and may be removed in future Ray releases. You could suppress this warning by setting env variable PYTHONWARNINGS=\"ignore::DeprecationWarning\"\n",
      "The `JsonLogger interface is deprecated in favor of the `ray.tune.json.JsonLoggerCallback` interface and will be removed in Ray 2.7.\n",
      "  self._loggers.append(cls(self.config, self.logdir, self.trial))\n",
      "/home/alexskillen/RB_DRL/.venv/lib/python3.10/site-packages/ray/tune/logger/unified.py:53: RayDeprecationWarning: This API is deprecated and may be removed in future Ray releases. You could suppress this warning by setting env variable PYTHONWARNINGS=\"ignore::DeprecationWarning\"\n",
      "The `CSVLogger interface is deprecated in favor of the `ray.tune.csv.CSVLoggerCallback` interface and will be removed in Ray 2.7.\n",
      "  self._loggers.append(cls(self.config, self.logdir, self.trial))\n",
      "/home/alexskillen/RB_DRL/.venv/lib/python3.10/site-packages/ray/tune/logger/unified.py:53: RayDeprecationWarning: This API is deprecated and may be removed in future Ray releases. You could suppress this warning by setting env variable PYTHONWARNINGS=\"ignore::DeprecationWarning\"\n",
      "The `TBXLogger interface is deprecated in favor of the `ray.tune.tensorboardx.TBXLoggerCallback` interface and will be removed in Ray 2.7.\n",
      "  self._loggers.append(cls(self.config, self.logdir, self.trial))\n",
      "2024-04-08 21:36:36,840\tINFO trainable.py:164 -- Trainable.setup took 39.449 seconds. If your trainable is slow to initialize, consider setting reuse_actors=True to reduce actor creation overheads.\n",
      "2024-04-08 21:36:36,841\tWARNING util.py:62 -- Install gputil for GPU system monitoring.\n",
      "2024-04-08 21:36:36,852\tINFO trainable.py:575 -- Restored on 10.109.52.54 from checkpoint: Checkpoint(filesystem=local, path=/home/alexskillen/ray_results/PPO/PPO_ma_rbc_1d6be_00000_0_2024-04-06_13-20-54/checkpoint_000000)\n"
     ]
    }
   ],
   "source": [
    "PPOagent = PPO(config=config)\n",
    "PPOagent.restore(checkpoint_path)"
   ]
  },
  {
   "cell_type": "code",
   "execution_count": 14,
   "id": "71c088df-3bec-4fa7-a44e-a012fe355c4a",
   "metadata": {},
   "outputs": [
    {
     "name": "stdout",
     "output_type": "stream",
     "text": [
      "127.58396717719734\n"
     ]
    }
   ],
   "source": [
    "env=env_creator()\n",
    "reward_sum = 0\n",
    "observation, _ = env.reset(seed=52)\n",
    "\n",
    "for i in range(256):\n",
    "    action = PPOagent.compute_actions(observation, explore=False)\n",
    "    observation, reward, termination, truncation, info = env.step(action)\n",
    "    reward_sum += np.average(list(reward.values()))\n",
    "    T = env.problem.variables[1]['g']\n",
    "    fig, ax = plt.subplots()\n",
    "    c = ax.imshow(np.transpose(T), aspect=1/np.pi, origin=\"lower\", vmin=0., vmax=1.4)\n",
    "    fig.colorbar(c)\n",
    "    plt.title('$Nu=$'+str(np.round(env.fp.properties['Nu']['g'].flatten()[-1], 2)))\n",
    "    plt.savefig('figs/'+str(i)+'.png')\n",
    "    plt.close()\n",
    "\n",
    "print(reward_sum)"
   ]
  }
 ],
 "metadata": {
  "kernelspec": {
   "display_name": "Python 3 (ipykernel)",
   "language": "python",
   "name": "python3"
  },
  "language_info": {
   "codemirror_mode": {
    "name": "ipython",
    "version": 3
   },
   "file_extension": ".py",
   "mimetype": "text/x-python",
   "name": "python",
   "nbconvert_exporter": "python",
   "pygments_lexer": "ipython3",
   "version": "3.10.12"
  }
 },
 "nbformat": 4,
 "nbformat_minor": 5
}
